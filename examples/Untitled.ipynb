{
 "cells": [
  {
   "cell_type": "code",
   "execution_count": 11,
   "id": "6444aa39",
   "metadata": {},
   "outputs": [
    {
     "data": {
      "text/plain": [
       "2-element Vector{Vector{Float64}}:\n",
       " [0.0, 8.0, 4.0]\n",
       " [4.0, 12.0, 20.0, -4.0]"
      ]
     },
     "execution_count": 11,
     "metadata": {},
     "output_type": "execute_result"
    }
   ],
   "source": [
    "x = [[0., 4., 2.], [1., 3., 5., -1.0]]\n",
    "y = [2*x[1], 4*x[2]]"
   ]
  },
  {
   "cell_type": "code",
   "execution_count": 5,
   "id": "38385ff9",
   "metadata": {},
   "outputs": [
    {
     "data": {
      "text/plain": [
       "sort_spectra (generic function with 2 methods)"
      ]
     },
     "execution_count": 5,
     "metadata": {},
     "output_type": "execute_result"
    }
   ],
   "source": [
    "\n",
    "\n",
    "function sort_spectra(x::Vector{Float64}, y::Vector{Float64})\n",
    "    p = sortperm(x)\n",
    "\treturn x[p], y[p]\n",
    "end\n",
    "function sort_spectra(x::Vector{<:Vector}, y::Vector{<:Vector})\n",
    "    # method for collection of x and y inputs\n",
    "    return [sort_spectra(x, y) for (x, y) in zip(x, y)]\n",
    "end"
   ]
  },
  {
   "cell_type": "code",
   "execution_count": 12,
   "id": "b7bf8d8d",
   "metadata": {},
   "outputs": [
    {
     "data": {
      "text/plain": [
       "2-element Vector{Tuple{Vector{Float64}, Vector{Float64}}}:\n",
       " ([0.0, 2.0, 4.0], [0.0, 4.0, 8.0])\n",
       " ([-1.0, 1.0, 3.0, 5.0], [-4.0, 4.0, 12.0, 20.0])"
      ]
     },
     "execution_count": 12,
     "metadata": {},
     "output_type": "execute_result"
    }
   ],
   "source": [
    "sort_spectra(x, y)"
   ]
  },
  {
   "cell_type": "code",
   "execution_count": 20,
   "id": "37916eba",
   "metadata": {},
   "outputs": [
    {
     "data": {
      "text/plain": [
       "flipsp (generic function with 4 methods)"
      ]
     },
     "execution_count": 20,
     "metadata": {},
     "output_type": "execute_result"
    }
   ],
   "source": [
    "function flipsp(spectra::Matrix{Float64})\n",
    "    x = spectra[:,1]\n",
    "    p = sortperm(x)\n",
    "    return spectra[p,:]\n",
    "end\n",
    "function flipsp(spectra::Vector{<:Matrix})\n",
    "    return [flipsp(sp) for sp in spectra]\n",
    "end"
   ]
  },
  {
   "cell_type": "code",
   "execution_count": 21,
   "id": "1f938ae4",
   "metadata": {},
   "outputs": [
    {
     "data": {
      "text/plain": [
       "2-element Vector{Matrix{Float64}}:\n",
       " [0.0 0.0; 2.0 4.0; 5.0 10.0; -1.0 -2.0]\n",
       " [0.0 0.0; 2.0 4.0; … ; 3.0 6.0; -10.0 -20.0]"
      ]
     },
     "execution_count": 21,
     "metadata": {},
     "output_type": "execute_result"
    }
   ],
   "source": [
    "x = [0., 2.,5.,-1]\n",
    "x2 = [0., 2.,5.,-1, 3., -10.]\n",
    "y = 2*x\n",
    "y2 = 2*x2\n",
    "\n",
    "sp1 = [x y]\n",
    "\n",
    "sp2 = [x2 y2]\n",
    "\n",
    "sps = [sp1, sp2]"
   ]
  },
  {
   "cell_type": "code",
   "execution_count": 1,
   "id": "d7e2c772",
   "metadata": {},
   "outputs": [],
   "source": [
    "using DataInterpolations"
   ]
  },
  {
   "cell_type": "code",
   "execution_count": 24,
   "id": "ace690c9",
   "metadata": {},
   "outputs": [
    {
     "data": {
      "text/plain": [
       "resample (generic function with 3 methods)"
      ]
     },
     "execution_count": 24,
     "metadata": {},
     "output_type": "execute_result"
    }
   ],
   "source": [
    "function resample(x::Vector{Float64},y::Vector{Float64},x_new::Vector{Float64}; method::String = \"AkimaInterpolation\")\n",
    "    # this is the parent method: treat x-y Vectors\n",
    "    if length(x) != length(y)\n",
    "        throw(ArgumentError(\"x and y must have the same length\"))\n",
    "    end\n",
    "    p = sortperm(x)# we automatically sort the data\n",
    "    interp = getfield(DataInterpolations, Symbol(method))(y[p], x[p]; extrapolation_right=ExtrapolationType.Extension, extrapolation_left=ExtrapolationType.Extension)\n",
    "    \n",
    "    return interp(x_new)\n",
    "end\n",
    "function resample(x::Vector{Float64},y::Matrix{Float64},x_new::Vector{Float64}; method::String = \"AkimaInterpolation\")\n",
    "    # this method treats an array of y signals with a common X\n",
    "    out = ones((size(x_new,1), size(y,2)))\n",
    "    for i = 1:size(y,2)\n",
    "        out[:,i] = resample(x, vec(y[:,i]), x_new; method=method)\n",
    "    end\n",
    "    return out\n",
    "end\n",
    "function resample(multiple_spectra::Vector{<:Matrix{Float64}},x_new::Vector{Float64}; method::String = \"AkimaInterpolation\")\n",
    "    # this method treats a list of input spectra\n",
    "    out = ones((size(x_new,1), size(multiple_spectra,1)))\n",
    "    for (index,i) in enumerate(multiple_spectra)\n",
    "        out[:, index] = resample(i[:,1], i[:,2], x_new; method=method)\n",
    "    end\n",
    "    return out\n",
    "end"
   ]
  },
  {
   "cell_type": "code",
   "execution_count": 26,
   "id": "9f44d1dd",
   "metadata": {},
   "outputs": [
    {
     "data": {
      "text/plain": [
       "\u001b[32m\u001b[1mTest Passed\u001b[22m\u001b[39m"
      ]
     },
     "execution_count": 26,
     "metadata": {},
     "output_type": "execute_result"
    }
   ],
   "source": [
    "x1 = [0., 2., 4.]\n",
    "y1 = 2.0*x1\n",
    "x_new = [1., 3.]\n",
    "\n",
    "# method 1\n",
    "y_new = resample(x1, y1, x_new)\n",
    "@test y_new == 2.0*x_new\n",
    "\n",
    "x2 = [8., 4., 1., 10.]\n",
    "y2 = [2.0*x2 x2]\n",
    "\n",
    "# method 2\n",
    "y_new = resample(x2, y2, x_new)\n",
    "@test y_new == [2.0*x_new x_new]\n",
    "\n",
    "# method 3\n",
    "y_new = resample([[x1 y1], [x1 y1]], x_new)\n",
    "@test y_new == [2.0*x_new 2.0*x_new]"
   ]
  },
  {
   "cell_type": "code",
   "execution_count": 27,
   "id": "4efcd319",
   "metadata": {},
   "outputs": [
    {
     "data": {
      "text/plain": [
       "2-element Vector{Float64}:\n",
       " 2.0\n",
       " 6.0"
      ]
     },
     "execution_count": 27,
     "metadata": {},
     "output_type": "execute_result"
    }
   ],
   "source": [
    "x1 = [0., 2., 4.]\n",
    "y1 = 2.0*x1\n",
    "x_new = [1., 3.]\n",
    "\n",
    "# method 1\n",
    "y_new = resample(x1, y1, x_new)"
   ]
  },
  {
   "cell_type": "code",
   "execution_count": 28,
   "id": "0c9b6607",
   "metadata": {},
   "outputs": [
    {
     "data": {
      "text/plain": [
       "3-element Vector{Float64}:\n",
       " 0.0\n",
       " 4.0\n",
       " 8.0"
      ]
     },
     "execution_count": 28,
     "metadata": {},
     "output_type": "execute_result"
    }
   ],
   "source": [
    "y1"
   ]
  },
  {
   "cell_type": "code",
   "execution_count": 32,
   "id": "59d72bc5",
   "metadata": {},
   "outputs": [
    {
     "ename": "LoadError",
     "evalue": "failed to find source of parent package: \"LoopVectorization\"",
     "output_type": "error",
     "traceback": [
      "failed to find source of parent package: \"LoopVectorization\"",
      "",
      "Stacktrace:",
      "  [1] error(s::String)",
      "    @ Base ./error.jl:35",
      "  [2] explicit_manifest_uuid_path(project_file::String, pkg::Base.PkgId)",
      "    @ Base ./loading.jl:988",
      "  [3] manifest_uuid_path(env::String, pkg::Base.PkgId)",
      "    @ Base ./loading.jl:693",
      "  [4] locate_package_env(pkg::Base.PkgId, stopenv::Nothing)",
      "    @ Base ./loading.jl:426",
      "  [5] locate_package(pkg::Base.PkgId, stopenv::Nothing)",
      "    @ Base ./loading.jl:473",
      "  [6] locate_package",
      "    @ ./loading.jl:473 [inlined]",
      "  [7] precompilepkgs(pkgs::Vector{String}; internal_call::Bool, strict::Bool, warn_loaded::Bool, timing::Bool, _from_loading::Bool, configs::Pair{Cmd, Base.CacheFlags}, io::IJulia.IJuliaStdio{Base.PipeEndpoint}, fancyprint::Bool)",
      "    @ Base.Precompilation ./precompilation.jl:743",
      "  [8] _require(pkg::Base.PkgId, env::String)",
      "    @ Base ./loading.jl:2481",
      "  [9] __require_prelocked(uuidkey::Base.PkgId, env::String)",
      "    @ Base ./loading.jl:2315",
      " [10] #invoke_in_world#3",
      "    @ ./essentials.jl:1089 [inlined]",
      " [11] invoke_in_world",
      "    @ ./essentials.jl:1086 [inlined]",
      " [12] _require_prelocked(uuidkey::Base.PkgId, env::String)",
      "    @ Base ./loading.jl:2302",
      " [13] macro expansion",
      "    @ ./loading.jl:2241 [inlined]",
      " [14] macro expansion",
      "    @ ./lock.jl:273 [inlined]",
      " [15] __require(into::Module, mod::Symbol)",
      "    @ Base ./loading.jl:2198",
      " [16] #invoke_in_world#3",
      "    @ ./essentials.jl:1089 [inlined]",
      " [17] invoke_in_world",
      "    @ ./essentials.jl:1086 [inlined]",
      " [18] require(into::Module, mod::Symbol)",
      "    @ Base ./loading.jl:2191"
     ]
    }
   ],
   "source": [
    "using Spectra"
   ]
  },
  {
   "cell_type": "code",
   "execution_count": null,
   "id": "79c80dde",
   "metadata": {},
   "outputs": [],
   "source": []
  },
  {
   "cell_type": "code",
   "execution_count": 7,
   "id": "5ffbe4a3",
   "metadata": {},
   "outputs": [
    {
     "data": {
      "text/plain": [
       "2×2 Matrix{Float64}:\n",
       " 2.0  1.0\n",
       " 6.0  3.0"
      ]
     },
     "execution_count": 7,
     "metadata": {},
     "output_type": "execute_result"
    }
   ],
   "source": [
    "# signal creation\n",
    "x = collect(0.:0.8:10.)\n",
    "y, ys = gaussiennes([10.,5.], [4.,6.], [1.1,0.8], x)\n",
    "\n",
    "# the new x axis\n",
    "x_new = collect(0.:0.05:10.)\n",
    "\n",
    "# resampling y as a vector\n",
    "y2 = resample(x, vec(y), x_new)\n",
    "\n",
    "# resampling the ys array of the two peaks\n",
    "y3 = resample(x, ys, x_new)\n",
    "\n",
    "y_true, ys_true = gaussiennes([10.,5.], [4.,6.], [1.1,0.8], x_new)\n",
    "\n",
    "# plotting\n",
    "p1 = scatter(x,y, label=\"Original data\")\n",
    "plot!(x_new, y_true, label=\"True y\")\n",
    "plot!(x_new,y2, label=\"Resampled y\")\n",
    "display(p1)\n",
    "\n",
    "p2 = scatter(x, ys, label=\"Original peak data\")\n",
    "plot!(x_new, ys_true, label=\"True peaks data\")\n",
    "plot!(x_new, y3, label=\"Resampled peaks\")\n",
    "display(p2)\n",
    "\n",
    "# resampling a collection of spectra\n",
    "x = collect(0.:0.8:10.)\n",
    "y, ys = gaussiennes([10.,5.], [4.,6.], [1.1,0.8], x)\n",
    "x2 = collect(0.:0.8:10.)\n",
    "y2, ys2 = gaussiennes([10.,5.], [4.,6.], [1.1,0.8], x2)\n",
    "x3 = collect(0.:0.8:10.)\n",
    "y3, ys3 = gaussiennes([10.,5.], [4.,6.], [1.1,0.8], x3)\n",
    "\n",
    "spectra_ = [[x y], [x2 y2], [x3 y3]]\n",
    "x_new = collect(0.:0.05:10.)\n",
    "spectra_resampled = resample(spectra_, x_new)\n",
    "p3 = scatter(x, [y, y2, y3], label=\"Original data\")\n",
    "plot!(x_new, spectra_resampled, label=\"Resampled data\")\n",
    "display(p3)"
   ]
  },
  {
   "cell_type": "code",
   "execution_count": 68,
   "id": "2a2a8490",
   "metadata": {},
   "outputs": [
    {
     "data": {
      "text/plain": [
       "2"
      ]
     },
     "execution_count": 68,
     "metadata": {},
     "output_type": "execute_result"
    }
   ],
   "source": [
    "size(y,2)"
   ]
  },
  {
   "cell_type": "code",
   "execution_count": null,
   "id": "bb8085c7",
   "metadata": {},
   "outputs": [],
   "source": []
  }
 ],
 "metadata": {
  "kernelspec": {
   "display_name": "Julia 1.11.1",
   "language": "julia",
   "name": "julia-1.11"
  },
  "language_info": {
   "file_extension": ".jl",
   "mimetype": "application/julia",
   "name": "julia",
   "version": "1.11.1"
  }
 },
 "nbformat": 4,
 "nbformat_minor": 5
}
