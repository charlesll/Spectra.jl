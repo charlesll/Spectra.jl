{
 "cells": [
  {
   "cell_type": "code",
   "execution_count": null,
   "id": "49f7808b",
   "metadata": {},
   "outputs": [],
   "source": [
    "using Spectra, "
   ]
  }
 ],
 "metadata": {
  "kernelspec": {
   "display_name": "Julia 1.11.4",
   "language": "julia",
   "name": "julia-1.11"
  },
  "language_info": {
   "file_extension": ".jl",
   "mimetype": "application/julia",
   "name": "julia",
   "version": "1.11.4"
  }
 },
 "nbformat": 4,
 "nbformat_minor": 5
}
